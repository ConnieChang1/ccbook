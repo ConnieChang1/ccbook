{
 "cells": [
  {
   "cell_type": "markdown",
   "metadata": {
    "slideshow": {
     "slide_type": "slide"
    }
   },
   "source": [
    "# The future of employment\n",
    "\n",
    "How susceptible are jobs to computerisation? \n",
    "\n",
    "> We examine how susceptible jobs are to computerisation. To assess this, we begin by implementing a novel methodology to estimate the probability of computerisation for 702 detailed occupations, using a **Gaussian process classifier**. Based on these estimates, we examine expected impacts of future computerisation on US labour market outcomes, with the primary objective of analysing the number of jobs at risk and the relationship between an occupations probability of computerisation, wages and educational attainment.\n",
    "\n",
    "C. Frey, M. Osborne  *The future of employment: How susceptible are jobs to computerisation?* Technological Forecasting & Social Change 114 (2017) 254–280 \n"
   ]
  },
  {
   "cell_type": "markdown",
   "metadata": {
    "slideshow": {
     "slide_type": "subslide"
    }
   },
   "source": [
    "# GPy\n",
    "\n",
    "\n",
    "The Gaussian processes framework in Python. https://github.com/SheffieldML/GPy"
   ]
  },
  {
   "cell_type": "code",
   "execution_count": 14,
   "metadata": {
    "ExecuteTime": {
     "end_time": "2019-11-16T08:43:41.737830Z",
     "start_time": "2019-11-16T08:41:29.393005Z"
    },
    "slideshow": {
     "slide_type": "subslide"
    }
   },
   "outputs": [
    {
     "name": "stdout",
     "output_type": "stream",
     "text": [
      "Collecting GPy\n",
      "\u001b[?25l  Downloading https://files.pythonhosted.org/packages/4a/84/91dc7d63fa32d83a799d32071d56fe481bc1ce6b090509999e3463bfeeea/GPy-1.9.9-cp37-cp37m-macosx_10_9_x86_64.whl (1.5MB)\n",
      "\u001b[K    100% |████████████████████████████████| 1.5MB 8.2kB/s ta 0:00:016\n",
      "\u001b[?25hRequirement already satisfied, skipping upgrade: six in /Users/datalab/anaconda3/lib/python3.7/site-packages (from GPy) (1.12.0)\n",
      "Collecting paramz>=0.9.0 (from GPy)\n",
      "\u001b[?25l  Downloading https://files.pythonhosted.org/packages/d8/37/4abbeb78d30f20d3402887f46e6e9f3ef32034a9dea65d243654c82c8553/paramz-0.9.5.tar.gz (71kB)\n",
      "\u001b[K    100% |████████████████████████████████| 71kB 25kB/s ta 0:00:0101\n",
      "\u001b[?25hRequirement already satisfied, skipping upgrade: scipy>=0.16 in /Users/datalab/anaconda3/lib/python3.7/site-packages (from GPy) (1.2.1)\n",
      "Requirement already satisfied, skipping upgrade: numpy>=1.7 in /Users/datalab/anaconda3/lib/python3.7/site-packages (from GPy) (1.16.2)\n",
      "Requirement already satisfied, skipping upgrade: decorator>=4.0.10 in /Users/datalab/anaconda3/lib/python3.7/site-packages (from paramz>=0.9.0->GPy) (4.4.0)\n",
      "Building wheels for collected packages: paramz\n",
      "  Building wheel for paramz (setup.py) ... \u001b[?25ldone\n",
      "\u001b[?25h  Stored in directory: /Users/datalab/Library/Caches/pip/wheels/c8/4a/0e/6e0dc85541825f991c431619e25b870d4b812c911214690cf8\n",
      "Successfully built paramz\n",
      "Installing collected packages: paramz, GPy\n",
      "Successfully installed GPy-1.9.9 paramz-0.9.5\n"
     ]
    }
   ],
   "source": [
    "!pip install --upgrade GPy"
   ]
  },
  {
   "cell_type": "code",
   "execution_count": 15,
   "metadata": {
    "ExecuteTime": {
     "end_time": "2019-11-16T08:43:43.852391Z",
     "start_time": "2019-11-16T08:43:43.540649Z"
    },
    "slideshow": {
     "slide_type": "subslide"
    }
   },
   "outputs": [],
   "source": [
    "import pandas as pd\n",
    "import numpy as np\n",
    "import pylab as plt\n",
    "import seaborn as sns\n",
    "import GPy"
   ]
  },
  {
   "cell_type": "code",
   "execution_count": 24,
   "metadata": {
    "ExecuteTime": {
     "end_time": "2019-11-16T08:53:10.820467Z",
     "start_time": "2019-11-16T08:53:10.806681Z"
    },
    "slideshow": {
     "slide_type": "subslide"
    }
   },
   "outputs": [
    {
     "data": {
      "text/html": [
       "<div>\n",
       "<style scoped>\n",
       "    .dataframe tbody tr th:only-of-type {\n",
       "        vertical-align: middle;\n",
       "    }\n",
       "\n",
       "    .dataframe tbody tr th {\n",
       "        vertical-align: top;\n",
       "    }\n",
       "\n",
       "    .dataframe thead th {\n",
       "        text-align: right;\n",
       "    }\n",
       "</style>\n",
       "<table border=\"1\" class=\"dataframe\">\n",
       "  <thead>\n",
       "    <tr style=\"text-align: right;\">\n",
       "      <th></th>\n",
       "      <th>Unnamed: 0</th>\n",
       "      <th>soc</th>\n",
       "      <th>Element Name</th>\n",
       "      <th>id</th>\n",
       "      <th>label</th>\n",
       "      <th>Data Value</th>\n",
       "      <th>computerization</th>\n",
       "    </tr>\n",
       "  </thead>\n",
       "  <tbody>\n",
       "    <tr>\n",
       "      <th>0</th>\n",
       "      <td>0</td>\n",
       "      <td>11-1011</td>\n",
       "      <td>Assisting and Caring for Others</td>\n",
       "      <td>70</td>\n",
       "      <td>0</td>\n",
       "      <td>2.205</td>\n",
       "      <td>0.015</td>\n",
       "    </tr>\n",
       "    <tr>\n",
       "      <th>1</th>\n",
       "      <td>1</td>\n",
       "      <td>11-1011</td>\n",
       "      <td>Cramped Work Space, Awkward Positions</td>\n",
       "      <td>70</td>\n",
       "      <td>0</td>\n",
       "      <td>1.415</td>\n",
       "      <td>0.015</td>\n",
       "    </tr>\n",
       "    <tr>\n",
       "      <th>2</th>\n",
       "      <td>2</td>\n",
       "      <td>11-1011</td>\n",
       "      <td>Fine Arts</td>\n",
       "      <td>70</td>\n",
       "      <td>0</td>\n",
       "      <td>0.915</td>\n",
       "      <td>0.015</td>\n",
       "    </tr>\n",
       "    <tr>\n",
       "      <th>3</th>\n",
       "      <td>3</td>\n",
       "      <td>11-1011</td>\n",
       "      <td>Finger Dexterity</td>\n",
       "      <td>70</td>\n",
       "      <td>0</td>\n",
       "      <td>2.000</td>\n",
       "      <td>0.015</td>\n",
       "    </tr>\n",
       "    <tr>\n",
       "      <th>4</th>\n",
       "      <td>4</td>\n",
       "      <td>11-1011</td>\n",
       "      <td>Manual Dexterity</td>\n",
       "      <td>70</td>\n",
       "      <td>0</td>\n",
       "      <td>0.000</td>\n",
       "      <td>0.015</td>\n",
       "    </tr>\n",
       "  </tbody>\n",
       "</table>\n",
       "</div>"
      ],
      "text/plain": [
       "   Unnamed: 0      soc                           Element Name  id  label  \\\n",
       "0           0  11-1011        Assisting and Caring for Others  70      0   \n",
       "1           1  11-1011  Cramped Work Space, Awkward Positions  70      0   \n",
       "2           2  11-1011                              Fine Arts  70      0   \n",
       "3           3  11-1011                       Finger Dexterity  70      0   \n",
       "4           4  11-1011                       Manual Dexterity  70      0   \n",
       "\n",
       "   Data Value  computerization  \n",
       "0       2.205            0.015  \n",
       "1       1.415            0.015  \n",
       "2       0.915            0.015  \n",
       "3       2.000            0.015  \n",
       "4       0.000            0.015  "
      ]
     },
     "execution_count": 24,
     "metadata": {},
     "output_type": "execute_result"
    }
   ],
   "source": [
    "# https://github.com/computational-class/ccbook/tree/master/data/jobdata.csv\n",
    "df = pd.read_csv('../data/jobdata.csv')\n",
    "df.head()"
   ]
  },
  {
   "cell_type": "code",
   "execution_count": 139,
   "metadata": {
    "ExecuteTime": {
     "end_time": "2019-11-17T08:49:19.364086Z",
     "start_time": "2019-11-17T08:49:19.359286Z"
    },
    "slideshow": {
     "slide_type": "subslide"
    }
   },
   "outputs": [
    {
     "data": {
      "text/plain": [
       "65"
      ]
     },
     "execution_count": 139,
     "metadata": {},
     "output_type": "execute_result"
    }
   ],
   "source": [
    "data_list=list(df['Data Value'])\n",
    "X=[]\n",
    "for i in range(0,585,9):\n",
    "    list1=data_list[i:i+9]\n",
    "    X.append(list1)\n",
    "X=np.array(X)\n",
    "\n",
    "len(X)"
   ]
  },
  {
   "cell_type": "code",
   "execution_count": 140,
   "metadata": {
    "ExecuteTime": {
     "end_time": "2019-11-17T08:49:19.757035Z",
     "start_time": "2019-11-17T08:49:19.751111Z"
    },
    "slideshow": {
     "slide_type": "subslide"
    }
   },
   "outputs": [
    {
     "data": {
      "text/plain": [
       "array([[0],\n",
       "       [0],\n",
       "       [0]])"
      ]
     },
     "execution_count": 140,
     "metadata": {},
     "output_type": "execute_result"
    }
   ],
   "source": [
    "data_list1=list(df['label'])\n",
    "Y=[]\n",
    "for i in range(0,585,9):\n",
    "    list1=data_list1[i]\n",
    "    Y.append(list1)\n",
    "Y=np.array(Y)\n",
    "Y=Y[:,np.newaxis]\n",
    "Y[:3]"
   ]
  },
  {
   "cell_type": "code",
   "execution_count": 141,
   "metadata": {
    "ExecuteTime": {
     "end_time": "2019-11-17T08:49:20.389490Z",
     "start_time": "2019-11-17T08:49:20.341611Z"
    },
    "slideshow": {
     "slide_type": "subslide"
    }
   },
   "outputs": [
    {
     "data": {
      "text/plain": [
       "<paramz.optimization.optimization.opt_lbfgsb at 0x1a1d24ec88>"
      ]
     },
     "execution_count": 141,
     "metadata": {},
     "output_type": "execute_result"
    }
   ],
   "source": [
    "kernel = GPy.kern.RBF(input_dim=9, variance=1., lengthscale=1.)\n",
    "m = GPy.models.GPRegression(X,Y,kernel)\n",
    "m.optimize(messages=False)"
   ]
  },
  {
   "cell_type": "code",
   "execution_count": 142,
   "metadata": {
    "ExecuteTime": {
     "end_time": "2019-11-17T08:49:21.250748Z",
     "start_time": "2019-11-17T08:49:21.247309Z"
    },
    "slideshow": {
     "slide_type": "subslide"
    }
   },
   "outputs": [
    {
     "name": "stdout",
     "output_type": "stream",
     "text": [
      "\n",
      "Name : GP regression\n",
      "Objective : 28.130643010540453\n",
      "Number of Parameters : 3\n",
      "Number of Optimization Parameters : 3\n",
      "Updates : True\n",
      "Parameters:\n",
      "  \u001b[1mGP_regression.         \u001b[0;0m  |               value  |  constraints  |  priors\n",
      "  \u001b[1mrbf.variance           \u001b[0;0m  |  0.3113242734729479  |      +ve      |        \n",
      "  \u001b[1mrbf.lengthscale        \u001b[0;0m  |   3.933616340596464  |      +ve      |        \n",
      "  \u001b[1mGaussian_noise.variance\u001b[0;0m  |  0.0964434513555219  |      +ve      |        \n"
     ]
    }
   ],
   "source": [
    "print(m)"
   ]
  },
  {
   "cell_type": "code",
   "execution_count": 143,
   "metadata": {
    "ExecuteTime": {
     "end_time": "2019-11-17T08:49:21.794413Z",
     "start_time": "2019-11-17T08:49:21.790514Z"
    },
    "slideshow": {
     "slide_type": "subslide"
    }
   },
   "outputs": [],
   "source": [
    "from sklearn.model_selection import train_test_split \n",
    "from sklearn.metrics import mean_squared_error, r2_score, explained_variance_score, roc_auc_score, accuracy_score\n",
    "\n",
    "X1, X2, y1, y2 = train_test_split(X, Y, random_state=0,\n",
    "                                  train_size=0.6, test_size = 0.4)"
   ]
  },
  {
   "cell_type": "code",
   "execution_count": 144,
   "metadata": {
    "ExecuteTime": {
     "end_time": "2019-11-17T08:49:22.342245Z",
     "start_time": "2019-11-17T08:49:22.334694Z"
    },
    "slideshow": {
     "slide_type": "subslide"
    }
   },
   "outputs": [
    {
     "data": {
      "text/plain": [
       "(0.8846153846153846, 0.8846153846153847)"
      ]
     },
     "execution_count": 144,
     "metadata": {},
     "output_type": "execute_result"
    }
   ],
   "source": [
    "from sklearn.naive_bayes import GaussianNB\n",
    "bayes = GaussianNB()\n",
    "bayes.fit(X1, y1.flatten())\n",
    "y2_model = bayes.predict(X2)  \n",
    "accuracy_score(y2, y2_model), roc_auc_score(y2, y2_model)"
   ]
  },
  {
   "cell_type": "code",
   "execution_count": 150,
   "metadata": {
    "ExecuteTime": {
     "end_time": "2019-11-17T08:50:39.398687Z",
     "start_time": "2019-11-17T08:50:39.198743Z"
    },
    "slideshow": {
     "slide_type": "subslide"
    }
   },
   "outputs": [
    {
     "name": "stdout",
     "output_type": "stream",
     "text": [
      "Accuracy score =  0.8461538461538461\n",
      "ROC_AUC score = 0.8461538461538461\n"
     ]
    }
   ],
   "source": [
    "from sklearn.ensemble import RandomForestRegressor\n",
    "forest = RandomForestRegressor(n_estimators = 400)\n",
    "forest.fit(X1, y1.flatten())\n",
    "y2_model = forest.predict(X2)\n",
    "y2_model = [1 if i > 0.5 else 0  for i in y2_model ]\n",
    "print('Accuracy score = ', accuracy_score(y2, y2_model))\n",
    "print('ROC_AUC score =', roc_auc_score(y2, y2_model))"
   ]
  },
  {
   "cell_type": "code",
   "execution_count": 185,
   "metadata": {
    "ExecuteTime": {
     "end_time": "2019-11-17T09:31:54.567805Z",
     "start_time": "2019-11-17T09:31:54.559429Z"
    },
    "slideshow": {
     "slide_type": "subslide"
    }
   },
   "outputs": [
    {
     "name": "stdout",
     "output_type": "stream",
     "text": [
      "Accuracy score =  0.8846153846153846\n",
      "ROC_AUC score = 0.8846153846153846\n"
     ]
    }
   ],
   "source": [
    "from sklearn.svm import SVC \n",
    "# \"Support vector classifier\"\n",
    "X1, X2, y1, y2 = train_test_split(X, Y, random_state=0,\n",
    "                                  train_size=0.6, test_size = 0.4)\n",
    "svc = SVC(kernel='linear', C=1E10)\n",
    "svc.fit(X1, y1.flatten())\n",
    "y2_model = svc.predict(X2)\n",
    "y2_model = [1 if i > 0.5 else 0  for i in y2_model ]\n",
    "print('Accuracy score = ', accuracy_score(y2, y2_model))\n",
    "print('ROC_AUC score =', roc_auc_score(y2, y2_model))"
   ]
  },
  {
   "cell_type": "code",
   "execution_count": 169,
   "metadata": {
    "ExecuteTime": {
     "end_time": "2019-11-17T09:27:16.611981Z",
     "start_time": "2019-11-17T09:27:16.608482Z"
    },
    "slideshow": {
     "slide_type": "subslide"
    }
   },
   "outputs": [
    {
     "data": {
      "text/plain": [
       "dict_keys(['explained_variance', 'r2', 'neg_median_absolute_error', 'neg_mean_absolute_error', 'neg_mean_squared_error', 'neg_mean_squared_log_error', 'accuracy', 'roc_auc', 'balanced_accuracy', 'average_precision', 'neg_log_loss', 'brier_score_loss', 'adjusted_rand_score', 'homogeneity_score', 'completeness_score', 'v_measure_score', 'mutual_info_score', 'adjusted_mutual_info_score', 'normalized_mutual_info_score', 'fowlkes_mallows_score', 'precision', 'precision_macro', 'precision_micro', 'precision_samples', 'precision_weighted', 'recall', 'recall_macro', 'recall_micro', 'recall_samples', 'recall_weighted', 'f1', 'f1_macro', 'f1_micro', 'f1_samples', 'f1_weighted'])"
      ]
     },
     "execution_count": 169,
     "metadata": {},
     "output_type": "execute_result"
    }
   ],
   "source": [
    "sklearn.metrics.SCORERS.keys()"
   ]
  },
  {
   "cell_type": "code",
   "execution_count": 194,
   "metadata": {
    "ExecuteTime": {
     "end_time": "2019-11-17T09:38:41.102283Z",
     "start_time": "2019-11-17T09:38:28.061684Z"
    }
   },
   "outputs": [
    {
     "data": {
      "text/plain": [
       "0.8912698412698414"
      ]
     },
     "execution_count": 194,
     "metadata": {},
     "output_type": "execute_result"
    }
   ],
   "source": [
    "from sklearn.model_selection import cross_val_score\n",
    "svc = SVC(kernel='linear', C=1E10)\n",
    "\n",
    "def cross_validation(model):\n",
    "    roc_auc= cross_val_score(model, X, Y.flatten(), scoring=\"roc_auc\", cv = 5)\n",
    "    return roc_auc\n",
    "\n",
    "np.mean(cross_validation(svc))"
   ]
  },
  {
   "cell_type": "code",
   "execution_count": 203,
   "metadata": {
    "ExecuteTime": {
     "end_time": "2019-11-17T09:44:19.332339Z",
     "start_time": "2019-11-17T09:44:19.317059Z"
    },
    "slideshow": {
     "slide_type": "subslide"
    }
   },
   "outputs": [
    {
     "data": {
      "text/plain": [
       "0.9103174603174604"
      ]
     },
     "execution_count": 203,
     "metadata": {},
     "output_type": "execute_result"
    }
   ],
   "source": [
    "from sklearn.model_selection import cross_val_score\n",
    "svc = SVC(kernel='rbf', C=1E10, gamma = 'auto')\n",
    "\n",
    "def cross_validation(model):\n",
    "    roc_auc= cross_val_score(model, X, Y.flatten(), scoring=\"roc_auc\", cv = 5)\n",
    "    return roc_auc\n",
    "\n",
    "np.mean(cross_validation(svc))"
   ]
  },
  {
   "cell_type": "code",
   "execution_count": 205,
   "metadata": {
    "ExecuteTime": {
     "end_time": "2019-11-17T09:44:37.133073Z",
     "start_time": "2019-11-17T09:44:37.129441Z"
    }
   },
   "outputs": [
    {
     "data": {
      "text/plain": [
       "13.0"
      ]
     },
     "execution_count": 205,
     "metadata": {},
     "output_type": "execute_result"
    }
   ],
   "source": [
    "len(X)/5"
   ]
  },
  {
   "cell_type": "code",
   "execution_count": 213,
   "metadata": {
    "ExecuteTime": {
     "end_time": "2019-11-17T09:55:17.207844Z",
     "start_time": "2019-11-17T09:55:17.172763Z"
    },
    "slideshow": {
     "slide_type": "subslide"
    }
   },
   "outputs": [
    {
     "name": "stdout",
     "output_type": "stream",
     "text": [
      "Accuracy score =  0.9230769230769231\n",
      "ROC_AUC score = 0.9230769230769231\n"
     ]
    }
   ],
   "source": [
    "X1, X2, y1, y2 = train_test_split(X, Y, random_state=0,\n",
    "                                  train_size=0.6, test_size = 0.4)\n",
    "m = GPy.models.GPRegression(X1,y1,kernel)#, normalizer = True)\n",
    "m.optimize(messages=False)\n",
    "y2_model = m.predict(X2)[0]\n",
    "y2_hat = [1 if i > 0.5 else 0  for i in y2_model ]\n",
    "print('Accuracy score = ', accuracy_score(y2, y2_hat))\n",
    "print('ROC_AUC score =', roc_auc_score(y2, y2_hat))"
   ]
  },
  {
   "cell_type": "code",
   "execution_count": 214,
   "metadata": {
    "ExecuteTime": {
     "end_time": "2019-11-17T09:55:23.474806Z",
     "start_time": "2019-11-17T09:55:23.316121Z"
    },
    "slideshow": {
     "slide_type": "subslide"
    }
   },
   "outputs": [
    {
     "data": {
      "image/png": "[encoded data removed]",
      "text/plain": [
       "<Figure size 432x288 with 1 Axes>"
      ]
     },
     "metadata": {
      "needs_background": "light"
     },
     "output_type": "display_data"
    }
   ],
   "source": [
    "plt.plot(y2, y2_model, 'ro', alpha = 0.2)\n",
    "plt.xlabel('y_pred', fontsize = 20)\n",
    "plt.ylabel('y_test', fontsize = 20)\n",
    "plt.show()"
   ]
  },
  {
   "cell_type": "code",
   "execution_count": 216,
   "metadata": {
    "ExecuteTime": {
     "end_time": "2019-11-17T09:56:00.777209Z",
     "start_time": "2019-11-17T09:55:58.112594Z"
    },
    "slideshow": {
     "slide_type": "subslide"
    }
   },
   "outputs": [
    {
     "name": "stdout",
     "output_type": "stream",
     "text": [
      "ROC_AUC score = 0.8779356399319636\n"
     ]
    }
   ],
   "source": [
    "roc_auc_list = []\n",
    "for i in range(100):\n",
    "    X1, X2, y1, y2 = train_test_split(X, Y, random_state=i,\n",
    "                                      train_size=0.6, test_size = 0.4)\n",
    "    m = GPy.models.GPRegression(X1,y1,kernel)#, normalizer = True)\n",
    "    m.optimize(messages=False)\n",
    "    y2_model = m.predict(X2)[0]\n",
    "    y2_hat = [1 if i > 0.5 else 0  for i in y2_model ]\n",
    "    roc_auc = roc_auc_score(y2, y2_hat)\n",
    "    roc_auc_list.append(roc_auc)\n",
    "    \n",
    "print('ROC_AUC score =', np.mean(roc_auc_list))"
   ]
  },
  {
   "cell_type": "code",
   "execution_count": 217,
   "metadata": {
    "ExecuteTime": {
     "end_time": "2019-11-17T09:56:25.630941Z",
     "start_time": "2019-11-17T09:56:22.901960Z"
    },
    "slideshow": {
     "slide_type": "subslide"
    }
   },
   "outputs": [
    {
     "name": "stdout",
     "output_type": "stream",
     "text": [
      "ROC_AUC score = 0.8921962481962482\n"
     ]
    }
   ],
   "source": [
    "roc_auc_list = []\n",
    "for i in range(100):\n",
    "    X1, X2, y1, y2 = train_test_split(X, Y, random_state=i,\n",
    "                                      train_size=0.8, test_size = 0.2)\n",
    "    m = GPy.models.GPRegression(X1,y1,kernel)#, normalizer = True)\n",
    "    m.optimize(messages=False)\n",
    "    y2_model = m.predict(X2)[0]\n",
    "    y2_hat = [1 if i > 0.5 else 0  for i in y2_model ]\n",
    "    roc_auc = roc_auc_score(y2, y2_hat)\n",
    "    roc_auc_list.append(roc_auc)\n",
    "    \n",
    "print('ROC_AUC score =', np.mean(roc_auc_list))"
   ]
  }
 ],
 "metadata": {
  "celltoolbar": "Slideshow",
  "kernelspec": {
   "display_name": "Python 3",
   "language": "python",
   "name": "python3"
  },
  "language_info": {
   "codemirror_mode": {
    "name": "ipython",
    "version": 3
   },
   "file_extension": ".py",
   "mimetype": "text/x-python",
   "name": "python",
   "nbconvert_exporter": "python",
   "pygments_lexer": "ipython3",
   "version": "3.7.3"
  },
  "latex_envs": {
   "LaTeX_envs_menu_present": true,
   "autoclose": false,
   "autocomplete": true,
   "bibliofile": "biblio.bib",
   "cite_by": "apalike",
   "current_citInitial": 1,
   "eqLabelWithNumbers": true,
   "eqNumInitial": 1,
   "hotkeys": {
    "equation": "Ctrl-E",
    "itemize": "Ctrl-I"
   },
   "labels_anchors": false,
   "latex_user_defs": false,
   "report_style_numbering": false,
   "user_envs_cfg": false
  },
  "toc": {
   "base_numbering": 1,
   "nav_menu": {},
   "number_sections": false,
   "sideBar": true,
   "skip_h1_title": false,
   "title_cell": "Table of Contents",
   "title_sidebar": "Contents",
   "toc_cell": false,
   "toc_position": {},
   "toc_section_display": true,
   "toc_window_display": false
  }
 },
 "nbformat": 4,
 "nbformat_minor": 2
}
