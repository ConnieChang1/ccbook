{
 "cells": [
  {
   "cell_type": "markdown",
   "metadata": {
    "slideshow": {
     "slide_type": "slide"
    }
   },
   "source": [
    "\n",
    "***\n",
    "***\n",
    "# 致谢\n",
    "\n",
    "***\n",
    "***\n",
    "\n"
   ]
  },
  {
   "cell_type": "markdown",
   "metadata": {
    "slideshow": {
     "slide_type": "subslide"
    }
   },
   "source": [
    "<img src = './img/logo/logo.png'>\n",
    "\n",
    "\n",
    "\n",
    "本书起源于王成军在2016年开始为复旦大学开设的[《计算新闻传播学》](https://github.com/computational-class/cjc)新媒体硕士课程，最初的课程框架由香港城市大学祝建华老师、复旦大学周葆华两位老师和王成军三个人商定，旨在为新闻传播学院的学生提供关于计算传播学应用的基本架构，内容注重计算思维的训练和实战应用，体现了实用性和案例化教学的特点。按照数据分析的流程分为数据收集、数据清洗、统计分析、机器学习（神经网络）、文本挖掘、推荐系统、网络科学、可视化等多个模块。其后，王成军在南京大学开设名为[《大数据挖掘与分析》](https://github.com/computational-class/bigdata)课程，基本上遵循相同的框架。\n",
    "\n",
    "## Jupyter Book\n",
    "\n",
    "本课程遵循可计算化的思路，采用Python作为编程工具，所有课程内容，包括文字、图片、代码等，均通过Jupyter Notebook展示。为更好地方便教学、交流以及更新课程内容，特将课程相关的Jupyter notebook通过[Jupyter Book](https://github.com/jupyter/jupyter-book)整理为在线图书的形式。笔者非常感谢Jupyter项目：一方面，如果没有Jupyter Notebook就很难有相关的课程；另一方面，如果没有Jupyter Book项目的成熟，将课程内容整理为在线电子图书也是一个巨大的工程。\n",
    "\n",
    "需要声明的是，本在线书籍中不少应用内容来源于多本其它重要书籍，并非笔者独创。\n",
    "\n",
    "因本书内容驳杂，而个人能力所限，难免存在诸多谬误；对于其中涉及的错误，笔者皆愿意承担。\n",
    "\n",
    "## 相关课程\n",
    "\n",
    "- https://github.com/computational-class/bigdata\n",
    "- https://github.com/computational-class/cjc\n"
   ]
  },
  {
   "cell_type": "code",
   "execution_count": null,
   "metadata": {},
   "outputs": [],
   "source": []
  }
 ],
 "metadata": {
  "celltoolbar": "Slideshow",
  "kernelspec": {
   "display_name": "Python 3",
   "language": "python",
   "name": "python3"
  },
  "language_info": {
   "codemirror_mode": {
    "name": "ipython",
    "version": 3
   },
   "file_extension": ".py",
   "mimetype": "text/x-python",
   "name": "python",
   "nbconvert_exporter": "python",
   "pygments_lexer": "ipython3",
   "version": "3.7.3"
  },
  "latex_envs": {
   "LaTeX_envs_menu_present": true,
   "autoclose": false,
   "autocomplete": true,
   "bibliofile": "biblio.bib",
   "cite_by": "apalike",
   "current_citInitial": 1,
   "eqLabelWithNumbers": true,
   "eqNumInitial": 0,
   "hotkeys": {
    "equation": "Ctrl-E",
    "itemize": "Ctrl-I"
   },
   "labels_anchors": false,
   "latex_user_defs": false,
   "report_style_numbering": false,
   "user_envs_cfg": false
  },
  "nteract": {
   "version": "0.15.0"
  },
  "toc": {
   "base_numbering": 1,
   "nav_menu": {},
   "number_sections": false,
   "sideBar": false,
   "skip_h1_title": false,
   "title_cell": "Table of Contents",
   "title_sidebar": "Contents",
   "toc_cell": false,
   "toc_position": {
    "height": "780px",
    "left": "1292px",
    "top": "122.667px",
    "width": "341px"
   },
   "toc_section_display": false,
   "toc_window_display": true
  }
 },
 "nbformat": 4,
 "nbformat_minor": 1
}
