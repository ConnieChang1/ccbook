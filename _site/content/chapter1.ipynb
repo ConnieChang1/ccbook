{
  "cells": [
    {
      "cell_type": "markdown",
      "source": [
        "\n",
        "***\n",
        "***\n",
        "# 计算新闻传播学\n",
        "\n",
        "## 课程简介\n",
        "***\n",
        "***\n",
        "\n",
        "王成军 \n",
        "\n",
        "wangchengjun@nju.edu.cn\n",
        "\n",
        "计算传播网 http://computational-communication.com\n"
      ],
      "metadata": {
        "slideshow": {
          "slide_type": "slide"
        }
      }
    },
    {
      "cell_type": "markdown",
      "source": [
        "![title](images/webavatar.png)\n",
        " \n",
        "\n",
        "http://computational-communication.com"
      ],
      "metadata": {
        "ExecuteTime": {
          "end_time": "2018-05-06T13:30:44.679188Z",
          "start_time": "2018-05-06T13:30:44.613497Z"
        },
        "slideshow": {
          "slide_type": "slide"
        }
      }
    },
    {
      "cell_type": "markdown",
      "source": [
        "<img src= 'images/webavatar.png'>\n"
      ],
      "metadata": {
        "slideshow": {
          "slide_type": "subslide"
        }
      }
    },
    {
      "cell_type": "code",
      "source": [
        "import mistune\n",
        "mistune.__version__"
      ],
      "outputs": [
        {
          "output_type": "execute_result",
          "execution_count": 1,
          "data": {
            "text/plain": [
              "'0.7.2'"
            ]
          },
          "metadata": {}
        }
      ],
      "execution_count": 1,
      "metadata": {
        "ExecuteTime": {
          "end_time": "2018-05-06T14:16:44.794569Z",
          "start_time": "2018-05-06T14:16:44.757499Z"
        },
        "slideshow": {
          "slide_type": "slide"
        }
      }
    },
    {
      "cell_type": "code",
      "source": [
        "mistune.markdown('\\n <img src=\"link\" align=\"right\" width=100>  \\n', escape=False)"
      ],
      "outputs": [
        {
          "output_type": "execute_result",
          "execution_count": 2,
          "data": {
            "text/plain": [
              "'<p><img src=\"link\" align=\"right\" width=100></p>\\n'"
            ]
          },
          "metadata": {}
        }
      ],
      "execution_count": 2,
      "metadata": {
        "ExecuteTime": {
          "end_time": "2018-05-06T14:16:47.242153Z",
          "start_time": "2018-05-06T14:16:47.237267Z"
        },
        "slideshow": {
          "slide_type": "fragment"
        }
      }
    },
    {
      "cell_type": "markdown",
      "source": [
        "https://github.com/jupyter/nbconvert/issues/328\n",
        "\n",
        "How do I convert `<img>` tags in markdown cells when exporting in Jupyter? [StackOverflow](https://stackoverflow.com/questions/45245529/how-do-i-convert-img-tags-in-markdown-cells-when-exporting-in-jupyter/50200760#50200760)\n",
        "\n",
        "\n",
        "\n",
        "\n",
        "> # conda install mistune=0.7.2"
      ],
      "metadata": {
        "slideshow": {
          "slide_type": "fragment"
        }
      }
    },
    {
      "cell_type": "markdown",
      "source": [
        "# 内容\n",
        "- 时间安排\n",
        "- 课程资料\n",
        "- 授课计划\n",
        "- 课前准备"
      ],
      "metadata": {
        "slideshow": {
          "slide_type": "slide"
        }
      }
    },
    {
      "cell_type": "markdown",
      "source": [
        "# 时间安排\n",
        "\n",
        "- 36学时，两学分\n",
        "\n",
        "\n",
        "\n",
        "| 时间          |  上午         |    下午   |晚上        | 课时数量   |\n",
        "| -------------|:-------------:|:-------------:|:-------------:|-----:|\n",
        "| 2018-04-27 周五 | 9:00-12:00 | 13:30-17:30 |  晚上有课，下午延长半个小时 | 6学时|\n",
        "| 2018-04-28 周六 | 9:00-12:00 | 15:30-17:30 | 18:30-19:30 授课 19:30-20:30 作业&答疑 | 6学时|\n",
        "| 2018-04-29 周天 | 9:00-12:00 | 14:00-17:00 | 作业&答疑 | 6学时|\n",
        "| 2018-05-04 周五 | 9:00-12:00 | 13:30-17:30 | --     | 6学时|\n",
        "| 2018-05-05 周六 | 9:00-12:00 | 14:00-17:00 | 作业&答疑 | 6学时|\n",
        "| 2018-05-06 周天 | 9:00-12:00 | 14:00-17:00 | 作业&答疑 | 6学时|\n"
      ],
      "metadata": {
        "slideshow": {
          "slide_type": "slide"
        }
      }
    },
    {
      "cell_type": "markdown",
      "source": [
        "# 课程资料\n",
        "- (包括数据、PPT、可视化、图片、代码) http://github.com/computational-class/cjc/\n"
      ],
      "metadata": {
        "slideshow": {
          "slide_type": "slide"
        }
      }
    },
    {
      "cell_type": "markdown",
      "source": [
        "# 授课计划\n",
        "\n",
        "- 一、[计算新闻传播学简介](01.intro2cjc.ipynb)\n",
        "- 二、[数据科学的编程工具：大数据(1h)](02.bigdata.ipynb)\n",
        "- 三、[数据科学的编程工具：Python使用简介（3h）](03.python_intro.ipynb)\n",
        "---\n",
        "\n",
        "- 四、数据抓取：抓取两会报告、[Beautifulsoup](04.PythonCrawler_beautifulsoup.ipynb)\n",
        "- 五、数据抓取：抓取天涯论坛帖子\n",
        "- 六、数据清洗：清洗推特数据\n",
        "- 七、数据清洗：清洗占中新闻、清洗天涯论坛帖子\n",
        "---\n",
        "- 八、计算传播与统计初步: 分析天涯论坛的帖子\n",
        "- 九、计算传播与机器学习: 分析天涯论坛的帖子"
      ],
      "metadata": {
        "slideshow": {
          "slide_type": "slide"
        }
      }
    },
    {
      "cell_type": "markdown",
      "source": [
        "# 授课计划\n",
        "\n",
        "- 十、文本挖掘简介\n",
        "\n",
        "---\n",
        "- 十一、基于机器学习的情感分析\n",
        "- 十二、主题模型\n",
        "- 十三、计算传播应用：推荐系统简介\n",
        "---\n",
        "\n",
        "- 十四、计算传播应用：推荐系统实践\n",
        "- 十五、网络科学理论简介\n",
        "- 十六、网络科学模型\n",
        "---\n",
        "\n",
        "- 十七、网络科学实践：使用networkx分析网络结构\n",
        "- 十八、课程总结与学生研究项目展示"
      ],
      "metadata": {
        "slideshow": {
          "slide_type": "subslide"
        }
      }
    },
    {
      "cell_type": "markdown",
      "source": [
        "# 课前准备\n",
        "\n",
        "- 下载&安装anaconda python https://www.continuum.io/downloads\n"
      ],
      "metadata": {
        "slideshow": {
          "slide_type": "slide"
        }
      }
    },
    {
      "cell_type": "markdown",
      "source": [
        "# 课前准备\n",
        "\n",
        "- 申请graphlab的学术版本，获得序列号即可\n",
        "    - <del>https://dato.com/download/academic.html \n",
        "    - https://turi.com/download/academic.html\n",
        "\n"
      ],
      "metadata": {
        "slideshow": {
          "slide_type": "slide"
        }
      }
    },
    {
      "cell_type": "markdown",
      "source": [
        "# 课前准备\n",
        "\n",
        "- Python入门 http://www.imooc.com/view/177\n",
        "- [Beginning Python 《Python基础教程》](http://book.douban.com/subject/5948760/)\n",
        "- 用Python玩转数据 http://www.icourse163.org/course/nju-1001571005#/info"
      ],
      "metadata": {
        "slideshow": {
          "slide_type": "slide"
        }
      }
    },
    {
      "cell_type": "markdown",
      "source": [
        "# 课前准备\n",
        "- 注册github账户 http://github.com\n",
        "- watch本课程repo: https://github.com/computational-class/cjc/\n",
        "- 下载并安装github desktop客户端 （建议：非必须内容）： https://desktop.github.com/"
      ],
      "metadata": {
        "slideshow": {
          "slide_type": "slide"
        }
      }
    },
    {
      "cell_type": "markdown",
      "source": [
        "# Python's Role in Big Data Analytics\n"
      ],
      "metadata": {
        "slideshow": {
          "slide_type": "slide"
        }
      }
    },
    {
      "cell_type": "markdown",
      "source": [
        "# This is the End.\n",
        "> Thank you for your attention!"
      ],
      "metadata": {
        "slideshow": {
          "slide_type": "slide"
        }
      }
    }
  ],
  "metadata": {
    "toc_position": {
      "height": "158px",
      "left": "1166.02px",
      "right": "20px",
      "top": "120px",
      "width": "312px"
    },
    "toc": {
      "toc_position": {
        "height": "100px",
        "left": "1233.77px",
        "top": "112.979px",
        "width": "411px"
      },
      "skip_h1_title": false,
      "number_sections": false,
      "title_cell": "Table of Contents",
      "toc_window_display": true,
      "base_numbering": 1,
      "toc_section_display": true,
      "title_sidebar": "Contents",
      "toc_cell": false,
      "nav_menu": {},
      "sideBar": false
    },
    "kernel_info": {
      "name": "python3"
    },
    "anaconda-cloud": {},
    "latex_envs": {
      "report_style_numbering": false,
      "hotkeys": {
        "equation": "Ctrl-E",
        "itemize": "Ctrl-I"
      },
      "LaTeX_envs_menu_present": true,
      "autocomplete": true,
      "autoclose": false,
      "eqNumInitial": 0,
      "bibliofile": "biblio.bib",
      "latex_user_defs": false,
      "current_citInitial": 1,
      "eqLabelWithNumbers": true,
      "labels_anchors": false,
      "cite_by": "apalike",
      "user_envs_cfg": false
    },
    "language_info": {
      "name": "python",
      "version": "3.7.3",
      "mimetype": "text/x-python",
      "codemirror_mode": {
        "name": "ipython",
        "version": 3
      },
      "pygments_lexer": "ipython3",
      "nbconvert_exporter": "python",
      "file_extension": ".py"
    },
    "kernelspec": {
      "name": "python3",
      "language": "python",
      "display_name": "Python 3"
    },
    "celltoolbar": "Slideshow",
    "nteract": {
      "version": "0.15.0"
    }
  },
  "nbformat": 4,
  "nbformat_minor": 1
}